{
 "cells": [
  {
   "cell_type": "code",
   "execution_count": null,
   "metadata": {},
   "outputs": [],
   "source": [
    "# Pour rouler dans Google Colab, executez cette cellule en premier\n",
    "\n",
    "!git clone https://github.com/Algolab-Sherhack-2024/defi-principal.git\n",
    "import sys\n",
    "sys.path.insert(0,'/content/defi-principal')\n",
    "!pip install -r defi-principal/requirements.txt"
   ]
  },
  {
   "cell_type": "markdown",
   "metadata": {},
   "source": [
    "# Problème 1 : Les flottes d'autobus"
   ]
  },
  {
   "cell_type": "markdown",
   "metadata": {},
   "source": [
    "# Import des librairies nécessaires\n",
    "\n",
    "La cellule qui suit contient les imports nécessaire pour l'execution de ce notebook. Vous êtes invité(e)s à modifier ce notebook comme il vous chante."
   ]
  },
  {
   "cell_type": "code",
   "execution_count": 16,
   "metadata": {},
   "outputs": [],
   "source": [
    "# Affichage du graphe de problème\n",
    "import matplotlib.pyplot as plt\n",
    "import networkx as nx\n",
    "\n",
    "# Calcul matriciel et optimisation classique\n",
    "import numpy as np\n",
    "from scipy.optimize import minimize\n",
    "\n",
    "# Génération de circuit quantique\n",
    "from qiskit import QuantumCircuit\n",
    "\n",
    "# Structure pour l'écriture d'hamiltoniens\n",
    "from qiskit.quantum_info import SparsePauliOp\n",
    "\n",
    "# Méthode de génération du circuit de QAOA à optimiser\n",
    "from qiskit.circuit.library import QAOAAnsatz\n",
    "\n",
    "# Outils pour l'execution de circuits quantiques\n",
    "from qiskit_ibm_runtime import QiskitRuntimeService\n",
    "from qiskit_ibm_runtime import EstimatorV2 as Estimator\n",
    "from qiskit_ibm_runtime import SamplerV2 as Sampler\n",
    "\n",
    "# Transpilation de circuits quantiques pour les machines et simulateurs d'IBM\n",
    "from qiskit.transpiler.preset_passmanagers import generate_preset_pass_manager\n",
    "\n",
    "# Simulateur de processeur quantiques\n",
    "from qiskit_aer import AerSimulator\n",
    "\n",
    "# Simulateurs de processeurs quantiques existants\n",
    "from qiskit_ibm_runtime.fake_provider import FakeNairobiV2  # , FakeQuebec\n",
    "\n",
    "# Visualisation de distributions de probabilités\n",
    "from qiskit.visualization import plot_histogram"
   ]
  },
  {
   "cell_type": "markdown",
   "metadata": {},
   "source": [
    "# Introduction\n",
    "\n",
    "La société de transport de Sherbrooke (STS) fait face à un problème d'optimisation pour l'organisation des autobus qui desservent la ville. Nous vous proposons un cas simplifié pour expérimenter la résolution de problèmes d'optimisation combinatoire en utilisant l'algorithme quantique **QAOA**.\n",
    "\n",
    "## Énoncé du problème\n",
    "\n",
    ">La STS souhaite ajouter cinq autobus de cinq lignes différentes afin de répondre à la demande croissante des usagers, pour les départs de 08:00 et 08:30. Étant donné que certains trajets se chevauchent, l'objectif est de répartir ces autobus en deux groupes, de sorte que les bus partageant des arrêts communs aient, dans la mesure du possible, des heures de départ différentes. \n",
    "\n",
    "Pour modéliser ce problème, nous représentons chaque bus par un nœud dans un graphe. Une arête entre deux nœuds indique un chevauchement entre les lignes des autobus correspondants.\n",
    "\n",
    "<p align=\"center\">\n",
    "<img src=\"https://github.com/Algolab-Sherhack-2024/defi-principal/blob/main/probleme_img_1.jpg?raw=true\" alt=\"probleme 1\" width=\"250\"/>\n",
    "</p>\n",
    "\n",
    "## Affichage du graphe avec Python\n",
    "\n",
    "La librairie Networkx est utilisée pour visualiser le graphe correspondant à ce problème. Le code fourni peut également être utilisé pour d'autres problèmes du hackathon. L'option d'ajout et d'affichage de poids sur les arêtes est disponible, mais elle est désactivée par défaut dans le code.\n",
    "\n",
    "La visualisation du graphe de problème est optionnelle, mais peut potentiellement vous aider dans la résolution des prochains défis. \n",
    "\n",
    "## Objectif\n",
    "\n",
    "Votre mission est d'optimiser les hyperparamètres du circuit de QAOA afin de résoudre ce problème de manière efficace. Le pipeline de la solution avec QAOA est déjà fourni, mais il vous est demandé de trouver les meilleurs paramètres de circuit, ainsi que le nombre optimal de couches du circuit.\n",
    "\n",
    "### Livrables attendus :\n",
    "- Une série de paramètres optimaux pour le circuit QAOA.\n",
    "- Le nombre de couches du circuit QAOA.\n",
    "\n",
    "#### Format de soumission des livrables :\n",
    "Un fichier de format `.npz` est attendu. Vous pouvez générer ce fichier avec les informations requises en utilisation la méthode `sauvegarder_res` disponible dans `utils.py`.\n",
    "\n",
    "### Évaluation\n",
    "Une partie de la correction se fera en exécutant votre circuit QAOA avec le nombre de couches et les paramètres fournis. Un score sera calculé à partir de la solution obtenue à l'aide de la méthode de notation prédéfinie `calc_score` disponible dans `utils.py`.\n",
    "\n",
    "Les juges évalueront également la qualité du code et l'originalité de votre optimisation de paramètres pour QAOA. "
   ]
  },
  {
   "cell_type": "code",
   "execution_count": null,
   "metadata": {},
   "outputs": [],
   "source": [
    "# Instancier un graphe avec Networkx\n",
    "G = nx.Graph()\n",
    "# Ajouter les arêtes du graphe et leur poids, au besoin. Une liste de la forme [(noeud_A, noeud_B, poids_arête_AB), ...].\n",
    "G.add_weighted_edges_from([(0, 1, 1), (1, 2, 1), (2, 3, 1), (3, 0, 1), (0, 4, 1), (4, 1, 1)])\n",
    "# Définir les positions des noeuds pour le dessin du graphe\n",
    "pos = {0: (-1, 0), 1: (1, 0), 2: (1, -1), 3: (-1, -1), 4: (0, 1)}\n",
    "# Définir les options de dessin\n",
    "options = {\"node_size\": 1000, \"node_color\": \"white\", \"edgecolors\": \"black\", \"linewidths\": 2, \"width\": 2}\n",
    "# Dessiner le graphe\n",
    "nx.draw_networkx(G, pos, **options)\n",
    "# Dessiner, au besoin, le poids de chaque arête\n",
    "# nx.draw_networkx_edge_labels(G, pos, nx.get_edge_attributes(G, \"weight\"))\n",
    "\n",
    "# Afficher le dessin du graphe\n",
    "ax = plt.gca()\n",
    "ax.margins(0.20)\n",
    "plt.axis(\"off\")\n",
    "plt.show()"
   ]
  },
  {
   "cell_type": "markdown",
   "metadata": {},
   "source": [
    "# Fonction de coût\n",
    "\n",
    "Avant de résoudre le problème à l'aide de QAOA, nous devons d'abord définir une fonction de coût qui représente notre objectif d'optimisation.\n",
    "\n",
    "## Qubits et valeurs moyennes\n",
    "\n",
    "Le problème de répartition des autobus doit être reformulé en termes de qubits et de portes logiques quantiques pour être résolu par un algorithme quantique tel que **QAOA**. Chaque nœud du graphe représente un autobus, et nous utilisons un qubit pour encoder chaque nœud. Ainsi, le nombre de qubits dans notre circuit correspond au nombre de nœuds (ou d’autobus) dans le graphe.\n",
    "\n",
    "Pour capturer les relations entre les noeuds, nous définissons les interactions entre les qubits en fonction des arêtes du graphe. Par exemple, une chaîne de Pauli telle que $IIIZZ$ encode une arête entre les qubits (nœuds) 0 et 1, où chaque matrice de Pauli $Z_i$ correspond à une mesure sur un qubit $i$.\n",
    "\n",
    "Lorsque les deux qubits 0 et 1 sont dans le même groupe, l'observable $IIIZZ$ associée à cette arête prendra la valeur $1$. Si les qubits sont dans des groupes différents, l'observable prendra la valeur $-1$. Cette formulation nous permet d’évaluer si deux nœuds (autobus) sont correctement séparés.\n",
    "\n",
    "Au besoin, référez-vous à la présentation pour des rappels sur la mesure d'observables. \n",
    "\n",
    "## Expression de l’Hamiltonien\n",
    "\n",
    "L’Hamiltonien, qui représente la fonction de coût du problème, est exprimé comme la somme des chaines de Pauli associées à chaque paire de qubits connectés par une arête dans le graphe. Pour deux qubits $i$ et $j$ connectés, l'interaction est modélisée par le terme $Z_i Z_j$.\n",
    "\n",
    "L'Hamiltonien pour l’ensemble du graphe est donc :\n",
    "\n",
    "$$\n",
    "H = \\sum_{(i,j) \\in E} Z_i Z_j\n",
    "$$\n",
    "\n",
    "où $E$ est l'ensemble des arêtes du graphe. Cette somme couvre toutes les paires de nœuds $i$ et $j$ qui partagent une arête, c’est-à-dire tous les autobus ayant des trajets qui se chevauchent.\n",
    "\n",
    "> L’objectif est de minimiser cette fonction pour séparer les autobus en deux groupes de manière optimale.\n",
    "\n",
    "**Note :** Cela correspond à un problème de Max-Cut simple. \n",
    "\n",
    "Nous utilisons la structure `SparsePauliOp` pour instancier l'Hamiltonien. "
   ]
  },
  {
   "cell_type": "code",
   "execution_count": null,
   "metadata": {},
   "outputs": [],
   "source": [
    "# Instancier un SparsePauliOp comme une somme de chaines de Pauli multipliées par un certain coefficient (ici 1).\n",
    "H = SparsePauliOp.from_list(\n",
    "    [(\"IIIZZ\", 1.0), (\"IIZZI\", 1.0), (\"IZZII\", 1.0), (\"IZIIZ\", 1.0), (\"ZIIIZ\", 1.0), (\"ZIIZI\", 1.0)]\n",
    ")\n",
    "# Afficher le SparsePauliOp\n",
    "print(H)"
   ]
  },
  {
   "cell_type": "markdown",
   "metadata": {},
   "source": [
    "# Vérification classique\n",
    "\n",
    "Le problème peut être représenté sous forme matricielle. Étant donné sa petite taille, il est possible de diagonaliser cette matrice pour obtenir une solution exacte. Vous pouvez utiliser cette méthode de diagonalisation pour vérifier la validité de votre solution quantique.\n",
    "\n",
    "**Note** : Cette méthode se retrouve dans `utils.py` et peut-être réutilisée pour vérifier vos solutions aux prochains problèmes également. "
   ]
  },
  {
   "cell_type": "code",
   "execution_count": 19,
   "metadata": {},
   "outputs": [],
   "source": [
    "def calc_solutions_exactes(hamiltonien: SparsePauliOp) -> tuple[float, list[str]]:\n",
    "    \"\"\"Calcul classique des solutions de l'hamiltonien fourni en entrée.\n",
    "    Cela est fait en diagonalisant la matrice de l'hamiltonien.\n",
    "\n",
    "    Args:\n",
    "        hamiltonien (SparsePauliOp): Hamiltonien à diagonaliser exprimé sous la forme d'une somme de chaines de Pauli.\n",
    "\n",
    "    Returns:\n",
    "        tuple[float, list[str]]:\n",
    "            - Coût minimal obtenue (float)\n",
    "            - Liste de solutions binaires associées au coût minimal\n",
    "    \"\"\"\n",
    "    # Transformer l'hamiltonien en matrice\n",
    "    mat_hamiltonien = np.array(hamiltonien.to_matrix())\n",
    "    # Diagonaliser la matrice pour en extraire vecteurs et valeurs propres\n",
    "    valeurs_propres, vecteurs_propres = np.linalg.eig(mat_hamiltonien)\n",
    "\n",
    "    # Index des valeurs propres minimales\n",
    "    min_val_propre = np.where(valeurs_propres == np.min(valeurs_propres))[0]\n",
    "    # Solutions minimales associées aux valeurs propres minimales\n",
    "    sol_binaires = [bin(idx).lstrip(\"-0b\").zfill(hamiltonien.num_qubits) for idx in min_val_propre]\n",
    "\n",
    "    # Coût and chaines binaires de toutes les meilleures solutions\n",
    "    return valeurs_propres[min_val_propre][0].real, sol_binaires"
   ]
  },
  {
   "cell_type": "code",
   "execution_count": null,
   "metadata": {},
   "outputs": [],
   "source": [
    "# Vérifier que l'hamiltonien créé nous donne la solution attendue\n",
    "cout_minimal, sol_binaires = calc_solutions_exactes(hamiltonien=H)\n",
    "\n",
    "# Afficher le coût minimal obtenu\n",
    "print(\"Coût minimal : \", cout_minimal)\n",
    "# Afficher les solutions binaires (à lire de droite à gauche, du qubit 0 au qubit 4)\n",
    "for i, sol in enumerate(sol_binaires):\n",
    "    print(\"Solution à coût minimal {idx} : {solution}\".format(idx=i, solution=sol))"
   ]
  },
  {
   "cell_type": "markdown",
   "metadata": {},
   "source": [
    "# Cadre de solution avec QAOA\n",
    "\n",
    "QAOA (Quantum Approximate Optimization Algorithm) est un algorithme variationnel quantique, utilisé ici pour résoudre notre problème d'optimisation combinatoire. Pour les détails théoriques de l'algorithme, référez-vous à la présentation de ce matin.\n",
    "\n",
    "Dans cette première partie du défi, vous devez ajuster les hyperparamètres de votre exécution hybride pour résoudre efficacement le problème de gestion de flottes d’autobus. Les hyperparamètres à régler sont les suivants :\n",
    "\n",
    "- Le nombre de couches dans le circuit QAOA.\n",
    "- Les paramètres (angles) à insérer dans le circuit QAOA.\n",
    "- Les options de l'optimiseur classique, utilisé pour ajuster les paramètres (angles) du QAOA.\n",
    "\n",
    "Votre objectif est de trouver la meilleure combinaison de couches et de paramètres pour obtenir systématiquement des solutions au problème de MaxCut, lors de plusieurs exécutions du circuit QAOA.\n",
    "\n",
    "## Circuit de QAOA\n",
    "\n",
    "Dans les cellules suivantes, vous trouverez une structure proposée pour construire le circuit QAOA basé sur l'Hamiltonien du problème. Expérimentez avec le nombre de couches pour améliorer l'approximation de la solution.\n",
    "\n",
    "À noter : Un nombre de couches trop faible peut ne pas fournir une solution stable, tandis qu'un nombre trop élevé augmente considérablement le temps d'exécution. L’idéal est de trouver un équilibre qui permet d’amplifier efficacement les solutions sans complexifier inutilement la simulation, afin de rester dans des délais raisonnables pour une exécution sur un ordinateur portable."
   ]
  },
  {
   "cell_type": "code",
   "execution_count": null,
   "metadata": {},
   "outputs": [],
   "source": [
    "# Identifier un nombre de couches (répétitions) pour QAOA\n",
    "nb_couches = 1  # Modifier comme il vous plait\n",
    "\n",
    "# Instancier le circuit de QAOA avec l'outil de Qiskit\n",
    "circuit_qaoa = QAOAAnsatz(H, reps=nb_couches)\n",
    "\n",
    "# Afficher, si désiré, le circuit de QAOA\n",
    "circuit_qaoa.decompose(reps=1).draw(output=\"mpl\", style=\"iqp\")"
   ]
  },
  {
   "cell_type": "code",
   "execution_count": 22,
   "metadata": {},
   "outputs": [],
   "source": [
    "# Définir un simulateur pour faire nos calculs de valeurs moyennes\n",
    "backend = AerSimulator()  # À changer si désiré pour d'autres simulateurs / vrai ordinateur\n",
    "estimateur = Estimator(mode=backend)\n",
    "\n",
    "# Définir un outil de transpilation tel qu'exigé par Qiskit\n",
    "pm = generate_preset_pass_manager(backend=backend, optimization_level=1)"
   ]
  },
  {
   "cell_type": "code",
   "execution_count": 23,
   "metadata": {},
   "outputs": [],
   "source": [
    "# Définir la fonction de coût classique à optimiser\n",
    "def fonction_cout(\n",
    "    params: list[complex], estimator: Estimator, circuit: QuantumCircuit, hamiltonien: SparsePauliOp\n",
    ") -> float:\n",
    "    \"\"\"Fonction de cout qui calcule la valeur moyenne d'un observable (hamiltonien) pour un état donnée (circuit).\n",
    "    Cette valeur moyenne représente le coût de la fonction de coût décrite par l'hamiltonien en entrée. Aussi, le\n",
    "    circuit est paramétré et les paramètres sont définis dans le vecteurs params.\n",
    "    Le tout est évalué à l'aide de l'estimateur (estimator).\n",
    "\n",
    "    Args:\n",
    "        params (list[complex]): Liste de paramètres à insérer dans le circuit en entrée\n",
    "        estimator (Estimator): Calculateur utilisé pour estimer la valeur moyenne désirée.\n",
    "        circuit (QuantumCircuit): Circuit paramétré de QAOA.\n",
    "        hamiltonien (SparsePauliOp): Observable décrivant la fonction de coût du problème donné.\n",
    "\n",
    "    Returns:\n",
    "        float: Coût associé aux paramètres passés en entrée.\n",
    "    \"\"\"\n",
    "    isa_psi = pm.run(circuit)\n",
    "    isa_observables = hamiltonien.apply_layout(isa_psi.layout)\n",
    "\n",
    "    job = estimator.run([(isa_psi, isa_observables, params)])\n",
    "    cout = job.result()[0].data.evs\n",
    "    return cout"
   ]
  },
  {
   "cell_type": "markdown",
   "metadata": {},
   "source": [
    "## Paramètres du circuit de QAOA\n",
    "\n",
    "La cellule suivante permet d'effectuer l'optimisation classique des paramètres (angles) du circuit QAOA. Ces paramètres sont initialisés avec un vecteur de zéros, mais il peut être *(très)* pertinent d'explorer d'autres initialisations pour améliorer les résultats de l'optimisation.\n",
    "\n",
    "### Rappel de soumission :\n",
    "\n",
    "Vous devez fournir une série de paramètres qui, lorsqu'insérés dans le circuit QAOA, permettent d'amplifier de manière significative les solutions du problème de MaxCut dans la distribution de probabilités des résultats.\n",
    "\n",
    "### Optimiseur classique\n",
    "\n",
    "L'optimiseur **Cobyla** est proposé pour ajuster les paramètres à l'aide de la fonction de coût définie précédemment. Vous êtes libre de modifier les options de Cobyla ou d'utiliser un autre optimiseur si vous le jugez plus approprié.\n",
    "\n",
    "Certains optimiseurs sans calcul de gradient sont implémentés directement dans `Qiskit`."
   ]
  },
  {
   "cell_type": "code",
   "execution_count": null,
   "metadata": {},
   "outputs": [],
   "source": [
    "# Initialisation des paramètres du circuit de QAOA à utiliser en premier lieu\n",
    "params_init = np.zeros(circuit_qaoa.num_parameters)\n",
    "\n",
    "# Optimisation classique des paramètres du circuit de QAOA à l'aide de Scipy\n",
    "res_opt = minimize(\n",
    "    fonction_cout, params_init, args=(estimateur, circuit_qaoa, H), method=\"COBYLA\"\n",
    ")  # , options={\"tol\": 1e-14}\n",
    "\n",
    "\n",
    "# Extraction des informations suite à l'optimisation\n",
    "cout_opt = res_opt.fun  # Cout optimal trouvé\n",
    "params_opt = res_opt.x  # Paramètres optimaux trouvés\n",
    "\n",
    "# Affichage des résultats obtenus\n",
    "print(\"Cout optimal trouvé :\", cout_opt)\n",
    "print(\"Paramètres optimaux trouvés :\", params_opt)"
   ]
  },
  {
   "cell_type": "markdown",
   "metadata": {},
   "source": [
    "# Évaluation de la solution \n",
    "\n",
    "Après avoir déterminé un nombre de couches et un vecteur de paramètres, un **sampler** est utilisé pour générer la distribution de probabilités associée au circuit QAOA ainsi configuré. L'objectif est de vérifier que les bonnes solutions à notre problème sont significativement amplifiées dans cette distribution.\n",
    "\n",
    "C'est l'une des façons dont le score de votre optimisation des hyperparamètres sera déterminé."
   ]
  },
  {
   "cell_type": "code",
   "execution_count": null,
   "metadata": {},
   "outputs": [],
   "source": [
    "# Instancier un Sampler pour obtenir une distribution de probabilités\n",
    "sampler = Sampler(mode=backend)\n",
    "# Calcul de la distribution de probabilités avec les paramètres optimaux trouvés\n",
    "circuit_qaoa_copie = circuit_qaoa.decompose(reps=2).copy()\n",
    "circuit_qaoa_copie.measure_all()\n",
    "circuit_qaoa_copie.draw()\n",
    "counts = sampler.run([(circuit_qaoa_copie, params_opt)]).result()[0].data.meas.get_counts()\n",
    "# Afficher la distribution de probabilités obtenue\n",
    "plot_histogram(counts)"
   ]
  },
  {
   "cell_type": "markdown",
   "metadata": {},
   "source": [
    "# Sauvegarde de vos résultats \n",
    "\n",
    "Finalement, n'oubliez pas de sauvegarder vos résultats à l'aide de la méthode `sauvegarder_res` disponible dans `utils.py`.\n",
    "\n",
    "Donnez un **nom significatif** à votre fichier, par exemple `equipe_A_probleme_1.npz`. Vous pouvez vérifier le contenu de votre fichier `.npz` à l'aide de la méthode `lire_res` disponible dans `utils.py`."
   ]
  },
  {
   "cell_type": "code",
   "execution_count": null,
   "metadata": {},
   "outputs": [],
   "source": [
    "# Note. Pour rouler sur un vrai ordinateur, il vous faut changer de backend. Commencez par vous authentifier.\n",
    "# Cette cellule n'est à roulà\n",
    "# er qu'une seule fois.\n",
    "!pip install qiskit_ibm_provider\n",
    "from qiskit_ibm_provider import IBMProvider\n",
    "\n",
    "# Enregistrez votre clé d'authentification une fois.\n",
    "# IBMProvider.save_account(token=\"<IBM Quantum API key>\")  # Mettre en commentaire cette cellule lorsque terminé."
   ]
  },
  {
   "cell_type": "code",
   "execution_count": 27,
   "metadata": {},
   "outputs": [],
   "source": [
    "service = QiskitRuntimeService(instance=\"ibm-q/open/main\")\n",
    "backend = service.backend(\"ibm_sherbrooke\")  # Une façon de récupérer un backend\n",
    "backend = service.least_busy(operational=True, min_num_qubits=5)  # Une autre façon de récupérer un backend\n",
    "\n",
    "\n",
    "# Le reste (Sampler, Estimator) reste inchangé."
   ]
  }
 ],
 "metadata": {
  "kernelspec": {
   "display_name": "hackathon",
   "language": "python",
   "name": "python3"
  },
  "language_info": {
   "codemirror_mode": {
    "name": "ipython",
    "version": 3
   },
   "file_extension": ".py",
   "mimetype": "text/x-python",
   "name": "python",
   "nbconvert_exporter": "python",
   "pygments_lexer": "ipython3",
   "version": "3.12.5"
  }
 },
 "nbformat": 4,
 "nbformat_minor": 2
}
