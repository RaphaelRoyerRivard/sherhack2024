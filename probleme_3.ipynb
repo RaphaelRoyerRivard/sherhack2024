{
 "cells": [
  {
   "cell_type": "code",
   "execution_count": null,
   "metadata": {},
   "outputs": [],
   "source": [
    "# Pour rouler dans Google Colab, executez cette cellule en premier\n",
    "\n",
    "!git clone https://github.com/Algolab-Sherhack-2024/defi-principal.git\n",
    "import sys\n",
    "sys.path.insert(0,'/content/defi-principal')\n",
    "!pip install -r defi-principal/requirements.txt"
   ]
  },
  {
   "cell_type": "markdown",
   "metadata": {},
   "source": [
    "# Problème 3 : Partition des flottes d'autobus\n",
    "\n",
    "Vous avez réussi à résoudre le problème de partition des flottes d’autobus en partie 2. Maintenant, nous allons complexifier le problème en ajoutant plus de contrainte.\n",
    "\n",
    "## Énoncé du problème\n",
    "\n",
    "La STS souhaite toujours ajouter cinq autobus sur cinq lignes différentes afin de répondre à la demande de sa clientèle. Ces autobus seront ajoutés aux départs de 08:00 et 08:30. Toutefois, certains trajets se chevauchent, et il vous est demandé de diviser les autobus en deux groupes pour minimiser ces chevauchements. L’objectif est que deux bus partageant des arrêts aient, dans la mesure du possible, des heures de départ différentes.\n",
    "\n",
    "### Poids des chevauchements\n",
    "\n",
    "Tous les chevauchements entre les lignes ne sont pas égaux. Un poids vous est donné pour chaque chevauchement, exprimé en nombre d'arrêts communs entre deux lignes. Voici le tableau des poids :\n",
    "\n",
    "|             | **Ligne 7** | **Ligne 12** | **Ligne 16** | **Ligne 11** | **Ligne 3** |\n",
    "|-------------|-------------|--------------|-------------|-------------|------------|\n",
    "| **Ligne 7** |      -      |      10      |      0      |      11     |     13     |\n",
    "| **Ligne 12**|      10     |       -      |      11     |      0      |     10     |\n",
    "| **Ligne 16**|      0      |      11      |      -      |      8      |      0     |\n",
    "| **Ligne 11**|      11     |       0      |      8      |      -      |      0     |\n",
    "| **Ligne 3** |      13     |      10      |      0      |      0      |      -     |\n",
    "\n",
    "Jusque là, cela demeurre similaire aux problèmes 1 et 2. \n",
    "\n",
    "### Nouvelle contrainte\n",
    "\n",
    "Une nouvelle information vous est fournie : un même employé s'occupera **exceptionnellement** des lignes **3** et **12**. Par conséquent, ces deux lignes doivent impérativement être placées dans des groupes séparés, c'est-à-dire que leurs départs ne peuvent avoir lieu en même temps. Cela ajoute une **contrainte** à prendre en compte dans votre solution.\n",
    "\n",
    "## Ajout de contraintes à l'hamiltonien - Un exemple\n",
    "Posons, à des fins de démonstration, un problème à $N=2$ qubits, et un hamiltonien simple\n",
    "\n",
    "$$\n",
    "    H = \\sum_i^N Z_i.\n",
    "$$\n",
    "\n",
    "Ce dernier peut être écrit en `SparsePauliOp`."
   ]
  },
  {
   "cell_type": "code",
   "execution_count": 2,
   "metadata": {},
   "outputs": [],
   "source": [
    "from qiskit.quantum_info import SparsePauliOp\n",
    "\n",
    "H = SparsePauliOp.from_list([(\"IZ\", 1.0), (\"ZI\", 1.0)])"
   ]
  },
  {
   "cell_type": "markdown",
   "metadata": {},
   "source": [
    "Considérons maintenant la contrainte d'égalité suivante :\n",
    "\n",
    "$$\n",
    "Z_0 = 1\n",
    "$$\n",
    "\n",
    "Cela signifie que le qubit 0 doit nécessairement être dans l'état $\\left|0\\right>$, puisque la valeur moyenne de l'observable $Z_0$ ne sera égale à $1$ que lorsque le qubit est dans cet état.\n",
    "\n",
    "### Transformation de la contrainte d'égalité\n",
    "\n",
    "Pour intégrer cette contrainte dans l'hamiltonien, nous la réécrivons sous forme d'une expression de distance.\n",
    "\n",
    "On commence par reformuler l'expression plus haut\n",
    "$$\n",
    "Z_0 - 1 = 0, \n",
    "$$\n",
    "\n",
    "Trouvons maintenant notre expression de distance\n",
    "$$\n",
    "(Z_0 - 1)^2\n",
    "$$\n",
    "\n",
    "Écrivons la avec un `SparsePauliOp`.  "
   ]
  },
  {
   "cell_type": "code",
   "execution_count": 3,
   "metadata": {},
   "outputs": [],
   "source": [
    "contrainte = (SparsePauliOp.from_list([(\"IZ\", 1.0), (\"II\", -1.0)])) ** 2"
   ]
  },
  {
   "cell_type": "markdown",
   "metadata": {},
   "source": [
    "Cette expression mesure la distance entre le résultat de la mesure de l'observable $Z_0$ et la valeur $1$. Si cette distance est égale à zéro, cela signifie que la contrainte $Z_0 = 1$ est satisfaite. La mise au carré de cette expression permet de garder une distance toujours positive, ce qui sera utile lors de l'ajout de cette contrainte à notre fonction de coût (hamiltonien). \n",
    "\n",
    "### Tolérance et pénalité associée à la contrainte\n",
    "\n",
    "Pour indiquer notre tolérance au non-respect de cette contrainte, nous introduisons un paramètre $\\alpha$, qui représente la pénalité associée au bris de la contrainte. Ce paramètre $\\alpha$ devient un hyperparamètre de votre optimisation et viens multiplier l'expression de distance. Par exemple, pour un hamiltonien $H$, l'expression contrainte de ce dernier est obtenu par \n",
    "\n",
    "$$\n",
    "    H_c = H + \\alpha(Z_0 - 1)^2.\n",
    "$$"
   ]
  },
  {
   "cell_type": "code",
   "execution_count": 4,
   "metadata": {},
   "outputs": [],
   "source": [
    "alpha = 1\n",
    "H_c = H + alpha * contrainte"
   ]
  },
  {
   "cell_type": "markdown",
   "metadata": {},
   "source": [
    "\n",
    "\n",
    "Nous voulons un $\\alpha$ tel que le fait de briser la contrainte $Z_0 = 1$ soit assez couteux pour que notre processus d'optimisation choisisse de ne pas le faire. \n",
    "\n",
    "Il est recommandé de commencer avec une valeur d’$\\alpha$ légèrement supérieure à la somme des poids dans la fonction de coût sans contrainte. Cependant, un $\\alpha$ trop élevé pourrait rendre l'algorithme QAOA instable, donc une attention particulière doit être portée à cet équilibre.\n",
    "\n",
    "## Objectif\n",
    "\n",
    "Votre objectif est de minimiser la somme des poids de chevauchement au sein de chaque groupe tout en respectant la **contrainte** de séparation des lignes 3 et 12. Le but est donc de séparer les départs des lignes avec plusieurs arrêts communs, tout en séparant systématiquement deux des autobus. \n",
    "\n",
    "### Livrables attendus :\n",
    "- Un hamiltonien `SparsePauliOp` décrivant le problème contraint. \n",
    "- Une série de paramètres optimaux pour le circuit QAOA.\n",
    "- Le nombre de couches du circuit QAOA.\n",
    "\n",
    "#### Format de soumission des livrables :\n",
    "Un fichier de format `.npz` est attendu. Vous pouvez générer ce fichier avec les informations requises en utilisation la méthode `sauvegarder_res` disponible dans `utils.py`.\n",
    "\n",
    "Donnez un **nom significatif** à votre fichier, par exemple `equipe_A_probleme_3.npz`. Vous pouvez vérifier le contenu de votre fichier `.npz` à l'aide de la méthode `lire_res` disponible dans `utils.py`.\n",
    "\n",
    "### Évaluation\n",
    "Une partie de la correction se fera en exécutant votre circuit QAOA avec le nombre de couches et les paramètres fournis. Un score sera calculé à partir de la solution obtenue à l'aide de la méthode de notation prédéfinie `calc_score` disponible dans `utils.py`.\n",
    "\n",
    "Les juges évalueront également la qualité du code et l'originalité de votre optimisation de paramètres pour QAOA. "
   ]
  },
  {
   "cell_type": "code",
   "execution_count": 5,
   "metadata": {},
   "outputs": [],
   "source": [
    "# Instanciation de votre Hamiltonien"
   ]
  },
  {
   "cell_type": "code",
   "execution_count": 6,
   "metadata": {},
   "outputs": [],
   "source": [
    "# Instanciation de votre circuit de QAOA"
   ]
  },
  {
   "cell_type": "code",
   "execution_count": 7,
   "metadata": {},
   "outputs": [],
   "source": [
    "# Optimisation de vos hyperparamètres"
   ]
  },
  {
   "cell_type": "code",
   "execution_count": 8,
   "metadata": {},
   "outputs": [],
   "source": [
    "# Analyse et sauvegarde de vos résultats"
   ]
  }
 ],
 "metadata": {
  "kernelspec": {
   "display_name": "hackathon",
   "language": "python",
   "name": "python3"
  },
  "language_info": {
   "codemirror_mode": {
    "name": "ipython",
    "version": 3
   },
   "file_extension": ".py",
   "mimetype": "text/x-python",
   "name": "python",
   "nbconvert_exporter": "python",
   "pygments_lexer": "ipython3",
   "version": "3.12.5"
  }
 },
 "nbformat": 4,
 "nbformat_minor": 2
}
