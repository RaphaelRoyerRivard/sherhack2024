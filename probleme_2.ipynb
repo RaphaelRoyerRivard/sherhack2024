{
 "cells": [
  {
   "cell_type": "code",
   "execution_count": null,
   "metadata": {},
   "outputs": [],
   "source": [
    "# Pour rouler dans Google Colab, executez cette cellule en premier\n",
    "\n",
    "!git clone https://github.com/Algolab-Sherhack-2024/defi-principal.git\n",
    "import sys\n",
    "sys.path.insert(0,'/content/defi-principal')\n",
    "!pip install -r defi-principal/requirements.txt"
   ]
  },
  {
   "cell_type": "markdown",
   "metadata": {},
   "source": [
    "# Problème 2 : Partition des flottes d'autobus\n",
    "\n",
    "Vous avez réussi à résoudre le problème simple de MaxCut dans la partie 1. Passons maintenant à un défi légèrement plus complexe, en prenant en compte des informations supplémentaires.\n",
    "\n",
    "## Énoncé du problème\n",
    "\n",
    "La STS souhaite ajouter cinq autobus de cinq lignes distinctes afin de répondre aux besoins de sa clientèle. Ces autobus seront ajoutés aux départs de 08:00 et 08:30. Cependant, certains trajets se chevauchent, et il vous est demandé de diviser les autobus en deux groupes afin de minimiser ces chevauchements. Ainsi, lorsque deux bus partagent des arrêts, ils devraient, dans la mesure du possible, partir à des heures différentes.\n",
    "\n",
    "### Information supplémentaire\n",
    "\n",
    "Dans ce problème, tous les chevauchements ne sont pas égaux. Un **poids de chevauchement** vous est donné, correspondant au nombre d'arrêts communs entre deux lignes d'autobus. Cela signifie que certaines paires de lignes se chevauchent plus fortement que d'autres, et qu'il est donc plus important de les séparer dans des groupes différents.\n",
    "\n",
    "Le tableau ci-dessous présente le poids de chevauchement, c’est-à-dire le nombre d’arrêts communs, entre chaque paire de lignes :\n",
    "\n",
    "|              | **Ligne 7** | **Ligne 12** | **Ligne 16** | **Ligne 11** | **Ligne 3** |\n",
    "|--------------|-------------|--------------|--------------|--------------|-------------|\n",
    "| **Ligne 7**  |      -      |      10      |      0       |      11      |     13      |\n",
    "| **Ligne 12** |      10     |       -      |      11      |      0       |     10      |\n",
    "| **Ligne 16** |      0      |      11      |      -       |      8       |      0      |\n",
    "| **Ligne 11** |      11     |       0      |      8       |      -       |      0      |\n",
    "| **Ligne 3**  |      13     |      10      |      0       |      0       |      -      |\n",
    "\n",
    "\n",
    "**Un poids plus élevé** signifie que les deux lignes ont un nombre plus important d'arrêts en commun.\n",
    "\n",
    "## Objectif\n",
    "\n",
    "Votre objectif est de **minimiser la somme des poids de chevauchement** au sein de chaque groupe. Le but est donc de séparer les départs des lignes avec plusieurs arrêts communs.\n",
    "\n",
    "### Livrables attendus :\n",
    "- Un hamiltonien `SparsePauliOp` décrivant le problème\n",
    "- Une série de paramètres optimaux pour le circuit QAOA.\n",
    "- Le nombre de couches du circuit QAOA.\n",
    "\n",
    "#### Format de soumission des livrables :\n",
    "Un fichier de format `.npz` est attendu. Vous pouvez générer ce fichier avec les informations requises en utilisation la méthode `sauvegarder_res` disponible dans `utils.py`.\n",
    "\n",
    "Donnez un **nom significatif** à votre fichier, par exemple `equipe_A_probleme_2.npz`. Vous pouvez vérifier le contenu de votre fichier `.npz` à l'aide de la méthode `lire_res` disponible dans `utils.py`.\n",
    "\n",
    "### Évaluation\n",
    "Une partie de la correction se fera en exécutant votre circuit QAOA avec le nombre de couches et les paramètres fournis. Un score sera calculé à partir de la solution obtenue à l'aide de la méthode de notation prédéfinie `calc_score` disponible dans `utils.py`.\n",
    "\n",
    "Les juges évalueront également la qualité du code et l'originalité de votre optimisation de paramètres pour QAOA. "
   ]
  },
  {
   "cell_type": "code",
   "execution_count": null,
   "metadata": {},
   "outputs": [],
   "source": [
    "# Instanciation de votre Hamiltonien"
   ]
  },
  {
   "cell_type": "code",
   "execution_count": null,
   "metadata": {},
   "outputs": [],
   "source": [
    "# Instanciation de votre circuit de QAOA"
   ]
  },
  {
   "cell_type": "code",
   "execution_count": null,
   "metadata": {},
   "outputs": [],
   "source": [
    "# Optimisation de vos hyperparamètres"
   ]
  },
  {
   "cell_type": "code",
   "execution_count": null,
   "metadata": {},
   "outputs": [],
   "source": [
    "# Analyse et sauvegarde de vos résultats"
   ]
  }
 ],
 "metadata": {
  "kernelspec": {
   "display_name": "hackathon",
   "language": "python",
   "name": "python3"
  },
  "language_info": {
   "codemirror_mode": {
    "name": "ipython",
    "version": 3
   },
   "file_extension": ".py",
   "mimetype": "text/x-python",
   "name": "python",
   "nbconvert_exporter": "python",
   "pygments_lexer": "ipython3",
   "version": "3.12.5"
  }
 },
 "nbformat": 4,
 "nbformat_minor": 2
}
