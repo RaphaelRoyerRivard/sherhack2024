{
 "cells": [
  {
   "cell_type": "code",
   "execution_count": null,
   "metadata": {},
   "outputs": [],
   "source": [
    "# Pour rouler dans Google Colab, executez cette cellule en premier\n",
    "\n",
    "!git clone https://github.com/Algolab-Sherhack-2024/defi-principal.git\n",
    "import sys\n",
    "sys.path.insert(0,'/content/defi-principal')\n",
    "!pip install -r defi-principal/requirements.txt"
   ]
  },
  {
   "cell_type": "markdown",
   "metadata": {},
   "source": [
    "# Problème 4 : Nouvelle ligne d’autobus\n",
    "\n",
    "## Mise en contexte\n",
    "\n",
    "La STS souhaite ajouter une nouvelle ligne de bus. Il y a 4 arrêts d'intérêt que cette nouvelle ligne doit visiter, mais elle doit déterminer l'ordre optimal de ces arrêts. \n",
    "\n",
    "Le tableau ci-dessous représente le coût de déplacement entre chaque paire d'arrêts. L’objectif est de minimiser ces coûts pour définir un itinéraire optimal.\n",
    "\n",
    "\n",
    "|                          | Carrefour de l'Estrie | Cégep de Sherbrooke | Université de Sherbrooke | Espace quantique 1 |\n",
    "|--------------------------|-----------------------|---------------------|--------------------------|--------------------|\n",
    "| Carrefour de l'Estrie    |                       | 20                  | 9                        | 6                  |\n",
    "| Cégep de Sherbrooke      | 20                    |                     | 11                       | 14                 |\n",
    "| Université de Sherbrooke | 9                     | 11                  |                          | 3                  |\n",
    "| Espace quantique 1       | 6                     | 14                  | 3                        |                    |\n",
    "\n",
    "## Objectif\n",
    "\n",
    "Votre objectif est de trouver un itinéraire optimal pour la nouvelle ligne de bus de la STS qui minimise le coût total de visite des arrêts.\n",
    "\n",
    "### Livrables attendus\n",
    "\n",
    "- Un hamiltonien sous forme de `SparsePauliOp` décrivant le problème d'optimisation.\n",
    "- Une série de **paramètres optimaux** pour le circuit QAOA, qui permettent de résoudre le problème efficacement.\n",
    "- Le **nombre de couches** optimal pour le circuit QAOA.\n",
    "\n",
    "#### Format de soumission des livrables :\n",
    "\n",
    "Encore une fois, le fichier attendu devra être au format `.npz`. Vous pouvez générer ce fichier contenant les informations requises en utilisant la méthode `sauvegarder_res` fournie dans le fichier `utils.py`. \n",
    "\n",
    "Le fichier doit avoir un **nom significatif**, par exemple : `equipe_A_probleme_4.npz`. Vous pouvez vérifier son contenu à l’aide de la méthode `lire_res` dans `utils.py`.\n",
    "\n",
    "### Évaluation\n",
    "\n",
    "Votre soumission sera évaluée en exécutant le circuit QAOA avec le **nombre de couches** et les **paramètres** que vous aurez fournis. Un score sera calculé en fonction de la solution obtenue à l’aide de la méthode prédéfinie `calc_score` disponible dans `utils.py`. Ce score permettra de mesurer la qualité de votre optimisation.\n",
    "\n",
    "L’encodage de votre problème et l’écriture de votre hamiltonien seront également évalués. \n",
    "\n",
    "Les juges analyserons aussi la qualité du code et l'originalité de votre optimisation de paramètres pour QAOA et de votre encodage. \n"
   ]
  },
  {
   "cell_type": "markdown",
   "metadata": {},
   "source": [
    "# Encodage du problème avec des qubits\n",
    "\n",
    "Pour modéliser ce problème d'optimisation avec des qubits, il est essentiel d'encoder à la fois les arrêts de bus et l'ordre dans lequel ils doivent être visités. Voici quelques points clés à considérer :\n",
    "\n",
    "- **Arrêts** : Chaque arrêt de bus peut être représenté par un qubit. Par exemple, si nous avons 5 arrêts, nous aurons besoin de $N=5$ qubits, où un qubit en état |1⟩ pourrait indiquer que le bus s'arrête à cet emplacement, tandis que |0⟩ signifierait qu'il ne s'y arrête pas.\n",
    "\n",
    "- **Ordre de parcours** : L’ordre dans lequel les arrêts doivent être visités doit également être représenté. Par exemple, chaque groupe de $N$ qubits peut représenter une position dans la séquence complète de $M*N$ qubits, où $M$ est le nombre de points dans la séquence. Ici, $M=N$ comme on a 5 arrêts visités chacun une fois. \n",
    "\n",
    "Voici un exemple de résultat de mesure d’un tel encodage, avec $N = 3$ et $M = 3$ : \n",
    "\n",
    "<p align=\"center\">\n",
    "<img src=\"https://github.com/Algolab-Sherhack-2024/defi-principal/blob/main/probleme_img_4_1.jpg?raw=true\" alt=\"probleme 1\" width=\"400\"/>\n",
    "</p>\n",
    "\n",
    "Remarquez qu’à chaque point dans la séquence, un seul arrêt est visité. Un encodage comme celui-ci \n",
    "\n",
    "<p align=\"center\">\n",
    "<img src=\"https://github.com/Algolab-Sherhack-2024/defi-principal/blob/main/probleme_img_4_2.jpg?raw=true\" alt=\"probleme 1\" width=\"400\"/>\n",
    "</p>\n",
    "\n",
    "\n",
    "ne serait pas possible, comme il signifierait que le bus s’arrête à deux endroits en même temps à un moment de sa séquence, puis n’est à aucun arrêt à un autre moment de sa séquence.\n",
    "\n",
    "Réfléchissez bien à votre encodage. Celui-ci peut ressembler à celui proposé comme il peut être tout autre.\n",
    "\n",
    "\n",
    "## Indices \n",
    "\n",
    "- **Contrainte** : Rappelez-vous! Un bus ne peut être à un arrêt à un seul moment. Il est crucial d'incorporer cette contrainte dans votre hamiltonien. \n",
    "\n",
    "- **Observables** : Les observables comme $Z$ et $I$ (identité) sont utilisés pour mesurer les états des qubits. Une combinaison des observables $Z$ et $I$ peut être appliquée sur un qubit pour indiquer si le bus s'arrête à un certain arrêt (valeur 1) ou non (valeur 0).\n",
    "\n",
    "\n"
   ]
  },
  {
   "cell_type": "code",
   "execution_count": 13,
   "metadata": {},
   "outputs": [],
   "source": [
    "# Instanciation de votre Hamiltonien"
   ]
  },
  {
   "cell_type": "code",
   "execution_count": 14,
   "metadata": {},
   "outputs": [],
   "source": [
    "# Instanciation de votre circuit de QAOA"
   ]
  },
  {
   "cell_type": "code",
   "execution_count": 15,
   "metadata": {},
   "outputs": [],
   "source": [
    "# Optimisation de vos hyperparamètres"
   ]
  },
  {
   "cell_type": "code",
   "execution_count": 16,
   "metadata": {},
   "outputs": [],
   "source": [
    "# Analyse et sauvegarde de vos résultats"
   ]
  }
 ],
 "metadata": {
  "kernelspec": {
   "display_name": "hackathon",
   "language": "python",
   "name": "python3"
  },
  "language_info": {
   "codemirror_mode": {
    "name": "ipython",
    "version": 3
   },
   "file_extension": ".py",
   "mimetype": "text/x-python",
   "name": "python",
   "nbconvert_exporter": "python",
   "pygments_lexer": "ipython3",
   "version": "3.12.5"
  }
 },
 "nbformat": 4,
 "nbformat_minor": 2
}
